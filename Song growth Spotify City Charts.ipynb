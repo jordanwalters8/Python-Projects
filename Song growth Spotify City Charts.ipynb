{
 "cells": [
  {
   "cell_type": "code",
   "execution_count": 22,
   "id": "6426e859-d1f8-4602-8c46-4a6cf0c1b27b",
   "metadata": {},
   "outputs": [
    {
     "name": "stdout",
     "output_type": "stream",
     "text": [
      "Results have been written to /Users/jw/Downloads/city_spread.xlsx\n"
     ]
    }
   ],
   "source": [
    "import pandas as pd\n",
    "\n",
    "file1 = \"/Users/jw/Downloads/spotify_city_charts2-20.csv\"\n",
    "file2 = \"/Users/jw/Downloads/spotify_city_charts2-27.csv\"\n",
    "output_file = '/Users/jw/Downloads/city_spread.xlsx'  # output file name\n",
    "\n",
    "# Read in the data for both weeks\n",
    "df_week1 = pd.read_csv(file1)\n",
    "df_week2 = pd.read_csv(file2)\n",
    "\n",
    "# Assuming each DataFrame has at least columns 'Song' and 'City'\n",
    "# Count unique cities for each song for Week 1 and Week 2\n",
    "week1_counts = df_week1.groupby('Track')['City'].nunique().reset_index()\n",
    "week1_counts.rename(columns={'City': 'Week1_City_Count'}, inplace=True)\n",
    "\n",
    "week2_counts = df_week2.groupby('Track')['City'].nunique().reset_index()\n",
    "week2_counts.rename(columns={'City': 'Week2_City_Count'}, inplace=True)\n",
    "\n",
    "# Merge the two week counts on Song name\n",
    "merged = pd.merge(week1_counts, week2_counts, on='Track', how='outer').fillna(0)\n",
    "\n",
    "# Convert counts to integer type if necessary\n",
    "merged['Week1_City_Count'] = merged['Week1_City_Count'].astype(int)\n",
    "merged['Week2_City_Count'] = merged['Week2_City_Count'].astype(int)\n",
    "\n",
    "# Calculate the difference (Week2 - Week1)\n",
    "merged['Difference'] = merged['Week2_City_Count'] - merged['Week1_City_Count']\n",
    "\n",
    "# Prepare two DataFrames: one with raw counts and one with differences\n",
    "counts_df = merged[['Track', 'Week1_City_Count', 'Week2_City_Count']]\n",
    "difference_df = merged[['Track', 'Difference']]\n",
    "\n",
    "# Write to an Excel file with two sheets using ExcelWriter\n",
    "with pd.ExcelWriter(output_file, engine='openpyxl') as writer:\n",
    "    counts_df.to_excel(writer, sheet_name='City Counts', index=False)\n",
    "    difference_df.to_excel(writer, sheet_name='Differences', index=False)\n",
    "\n",
    "print(f\"Results have been written to {output_file}\")\n"
   ]
  },
  {
   "cell_type": "code",
   "execution_count": 24,
   "id": "f7a6fa0d-59d2-4e4c-b702-8adcdda55183",
   "metadata": {},
   "outputs": [
    {
     "name": "stdout",
     "output_type": "stream",
     "text": [
      "Results have been written to /Users/jw/Downloads/city_spread.xlsx\n"
     ]
    }
   ],
   "source": [
    "import pandas as pd\n",
    "\n",
    "file1 = \"/Users/jw/Downloads/spotify_city_charts2-20.csv\"\n",
    "file2 = \"/Users/jw/Downloads/spotify_city_charts2-27.csv\"\n",
    "output_file = '/Users/jw/Downloads/city_spread.xlsx'  # Output file name\n",
    "\n",
    "# Read in the data for both weeks\n",
    "df_week1 = pd.read_csv(file1)\n",
    "df_week2 = pd.read_csv(file2)\n",
    "\n",
    "# Count unique cities for each song for Week 1 and Week 2\n",
    "week1_counts = df_week1.groupby('Track')['City'].nunique().reset_index()\n",
    "week1_counts.rename(columns={'City': 'Week1_City_Count'}, inplace=True)\n",
    "\n",
    "week2_counts = df_week2.groupby('Track')['City'].nunique().reset_index()\n",
    "week2_counts.rename(columns={'City': 'Week2_City_Count'}, inplace=True)\n",
    "\n",
    "# Merge the two week counts on Track name, keeping only songs that exist in both weeks\n",
    "merged = pd.merge(week1_counts, week2_counts, on='Track', how='inner')\n",
    "\n",
    "# Calculate the difference (Week2 - Week1)\n",
    "merged['Difference'] = merged['Week2_City_Count'] - merged['Week1_City_Count']\n",
    "\n",
    "# Prepare DataFrames\n",
    "counts_df = merged[['Track', 'Week1_City_Count', 'Week2_City_Count']]\n",
    "difference_df = merged[['Track', 'Difference']]\n",
    "\n",
    "# Keep only songs that were in both weeks for the Differences sheet\n",
    "difference_df = difference_df[(merged['Week1_City_Count'] > 0) & (merged['Week2_City_Count'] > 0)]\n",
    "\n",
    "# Write to an Excel file with two sheets using ExcelWriter\n",
    "with pd.ExcelWriter(output_file, engine='openpyxl') as writer:\n",
    "    counts_df.to_excel(writer, sheet_name='City Counts', index=False)\n",
    "    difference_df.to_excel(writer, sheet_name='Differences', index=False)\n",
    "\n",
    "print(f\"Results have been written to {output_file}\")\n"
   ]
  },
  {
   "cell_type": "code",
   "execution_count": null,
   "id": "5226d7ef-a81f-4844-b407-2b0d05c75dfb",
   "metadata": {},
   "outputs": [],
   "source": []
  }
 ],
 "metadata": {
  "kernelspec": {
   "display_name": "Python 3 (ipykernel)",
   "language": "python",
   "name": "python3"
  },
  "language_info": {
   "codemirror_mode": {
    "name": "ipython",
    "version": 3
   },
   "file_extension": ".py",
   "mimetype": "text/x-python",
   "name": "python",
   "nbconvert_exporter": "python",
   "pygments_lexer": "ipython3",
   "version": "3.12.7"
  }
 },
 "nbformat": 4,
 "nbformat_minor": 5
}
